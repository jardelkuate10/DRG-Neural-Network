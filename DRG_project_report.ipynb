{
 "cells": [
  {
   "cell_type": "code",
   "execution_count": null,
   "metadata": {},
   "outputs": [],
   "source": []
  },
  {
   "cell_type": "markdown",
   "metadata": {},
   "source": [
    "# Neural Network Report \n",
    "#### Project by: Jardel Kuate | June 2021\n",
    "\n",
    "In this project, I was asked to create a neural network using the backpropagation algorithm. The neural network \n",
    "has been designed to categorize given inputs.\n",
    "\n",
    "The 2 datasets used to train and test the neural network are the following:\n",
    "1. Car Evaluation Dataset\n",
    "2. Iris Dataset\n",
    "\n",
    "## Pre-Process the data.\n",
    "1. Remove any null or empty values\n",
    "\n",
    "There were no null values in either datasets as they are commonly used machine learning datasets\n",
    "\n",
    "2. Turn categorical values into numerical values\n",
    "\n",
    "#### Car Evaluation Dataset:\n"
   ]
  },
  {
   "cell_type": "code",
   "execution_count": 2,
   "metadata": {},
   "outputs": [
    {
     "name": "stdout",
     "output_type": "stream",
     "text": [
      "  buying  maint doors persons lug_boot safety  class\n",
      "0  vhigh  vhigh     2       2    small    low  unacc\n",
      "1  vhigh  vhigh     2       2    small    med  unacc\n",
      "2  vhigh  vhigh     2       2    small   high  unacc\n",
      "3  vhigh  vhigh     2       2      med    low  unacc\n",
      "4  vhigh  vhigh     2       2      med    med  unacc\n",
      "     buying     maint     doors  persons  lug_boot   safety  class\n",
      "0  1.341253  1.341253 -1.341253 -1.22439  -1.22439 -1.22439      0\n",
      "1  1.341253  1.341253 -1.341253 -1.22439  -1.22439  0.00000      0\n",
      "2  1.341253  1.341253 -1.341253 -1.22439  -1.22439  1.22439      0\n",
      "3  1.341253  1.341253 -1.341253 -1.22439   0.00000 -1.22439      0\n",
      "4  1.341253  1.341253 -1.341253 -1.22439   0.00000  0.00000      0\n"
     ]
    }
   ],
   "source": [
    "import pandas as pd\n",
    "from NeuralNetwork import NeuralNet\n",
    "\n",
    "car = pd.read_csv(r'data\\car.data')\n",
    "car.columns = ['buying', 'maint', 'doors', 'persons', 'lug_boot', 'safety', 'class']\n",
    "\n",
    "pro_car = car.copy()\n",
    "\n",
    "for i in ('buying', 'maint'):\n",
    "    pro_car[i] = pro_car[i].replace('low', 0)\n",
    "    pro_car[i] = pro_car[i].replace('med', 1)\n",
    "    pro_car[i] = pro_car[i].replace('high', 2)\n",
    "    pro_car[i] = pro_car[i].replace('vhigh', 3)\n",
    "\n",
    "pro_car['doors'] = car['doors'].replace('5more', 5)\n",
    "pro_car['persons'] = car['persons'].replace('more', 6)\n",
    "\n",
    "pro_car['lug_boot'] = pro_car['lug_boot'].replace('small', 0)\n",
    "pro_car['lug_boot'] = pro_car['lug_boot'].replace('med', 1)\n",
    "pro_car['lug_boot'] = pro_car['lug_boot'].replace('big', 2)\n",
    "\n",
    "pro_car['safety'] = pro_car['safety'].replace('low', 0)\n",
    "pro_car['safety'] = pro_car['safety'].replace('med', 1)\n",
    "pro_car['safety'] = pro_car['safety'].replace('high', 2)\n",
    "\n",
    "pro_car['class'] = pro_car['class'].replace('unacc', 0)\n",
    "pro_car['class'] = pro_car['class'].replace('acc', 1)\n",
    "pro_car['class'] = pro_car['class'].replace('good', 2)\n",
    "pro_car['class'] = pro_car['class'].replace('vgood', 3)\n",
    "\n",
    "car_col = ('buying','maint','doors','persons','lug_boot','safety','class')\n",
    "for i in car_col:\n",
    "    pro_car[i] = pd.to_numeric(pro_car[i])\n",
    "\n",
    "final_data = pro_car.copy()\n",
    "for i in pro_car.columns[:6]:\n",
    "    mean = pro_car[i].mean()\n",
    "    std = pro_car[i].std()\n",
    "    final_data[i] = (pro_car[i] - mean) / std\n",
    "\n",
    "final_data.to_csv(r'data\\pro_car.csv', index = False)\n",
    "\n",
    "print(car.head())\n",
    "print(final_data.head())\n"
   ]
  },
  {
   "cell_type": "markdown",
   "metadata": {},
   "source": [
    "#### Iris Dataset:"
   ]
  },
  {
   "cell_type": "code",
   "execution_count": 3,
   "metadata": {},
   "outputs": [
    {
     "name": "stdout",
     "output_type": "stream",
     "text": [
      "   sepallength  sepalwidth  petallength  petalwidth        class\n",
      "0          5.1         3.5          1.4         0.2  Iris-setosa\n",
      "1          4.9         3.0          1.4         0.2  Iris-setosa\n",
      "2          4.7         3.2          1.3         0.2  Iris-setosa\n",
      "3          4.6         3.1          1.5         0.2  Iris-setosa\n",
      "4          5.0         3.6          1.4         0.2  Iris-setosa\n",
      "   sepallength  sepalwidth  petallength  petalwidth  class\n",
      "0    -0.897674    1.028611    -1.336794   -1.308593      0\n",
      "1    -1.139200   -0.124540    -1.336794   -1.308593      0\n",
      "2    -1.380727    0.336720    -1.393470   -1.308593      0\n",
      "3    -1.501490    0.106090    -1.280118   -1.308593      0\n",
      "4    -1.018437    1.259242    -1.336794   -1.308593      0\n"
     ]
    }
   ],
   "source": [
    "iris = pd.read_csv(r'data\\iris_csv.csv')\n",
    "final_data = iris.copy()\n",
    "for i in iris.columns[:4]:\n",
    "    mean = iris[i].mean()\n",
    "    std = iris[i].std()\n",
    "    final_data[i] = (iris[i] - mean) / std\n",
    "\n",
    "final_data['class'] = final_data['class'].replace('Iris-setosa', 0)\n",
    "final_data['class'] = final_data['class'].replace('Iris-versicolor', 1)\n",
    "final_data['class'] = final_data['class'].replace('Iris-virginica', 2)\n",
    "\n",
    "final_data.to_csv(r'data\\pro_iris.csv', index = False)\n",
    "\n",
    "print(iris.head())\n",
    "print(final_data.head())\n"
   ]
  },
  {
   "cell_type": "markdown",
   "metadata": {},
   "source": [
    "## Training a Neural Network\n",
    "The neural network takes the following inputs:\n",
    "1. Pre-processed data\n",
    "2. Training percent\n",
    "3. Maximum iterations\n",
    "4. Number of hidden layers\n",
    "5. Number of neurons in each hidden layer\n",
    "\n",
    "The number of inputs is dependent on the dataset, and the number of outputs is one.\n",
    "\n",
    "The way this neural network was designed, the column names of the dataset must be hardcoded into the neural network\n",
    "before beginning training. This is due to the fact that the network uses column names to split training sets. This is also where the numbre of inputs is decided.\n"
   ]
  },
  {
   "cell_type": "raw",
   "metadata": {},
   "source": [
    " def create_training_sets(self):\n",
    "       training_sets = []\n",
    "        training_inputs = []\n",
    "        training_outputs = []\n",
    "        for index, row in self.training_data.iterrows():\n",
    "            training_sets.append(\n",
    "                ((row['sepallength'], row['sepalwidth'], row['petallength'],     row['petalwidth']), row['class']))   # this will change for different data sets\n"
   ]
  },
  {
   "cell_type": "markdown",
   "metadata": {},
   "source": [
    "After first creating the neural network (object) with it's required inputs, you must mnaually initialize the weights\n",
    "from the input layer to hidden layer, hidden to hidden, and hidden to output."
   ]
  },
  {
   "cell_type": "code",
   "execution_count": 4,
   "metadata": {},
   "outputs": [],
   "source": [
    "df = pd.read_csv(r'data\\pro_iris.csv')\n",
    "nn = NeuralNet(df, 0.8, 100, 4, 5)\n",
    "nn.init_weights_from_inputs_to_hidden_layer_neurons()\n",
    "nn.init_weights_from_hidden_layer_neurons_to_hidden_layer_neurons()\n",
    "nn.init_weights_from_hidden_layer_neurons_to_output_layer_neurons()"
   ]
  },
  {
   "cell_type": "markdown",
   "metadata": {},
   "source": [
    "Once weights have been initialized, you may\n",
    "begin training the network, after trainig is complete, use the report function to test the network, report\n",
    "final weights, and show total error."
   ]
  },
  {
   "cell_type": "code",
   "execution_count": 5,
   "metadata": {},
   "outputs": [
    {
     "name": "stdout",
     "output_type": "stream",
     "text": [
      "\n",
      "Layer 1 (1st Hidden Layer):\n",
      "                        \n",
      "\n",
      "    Neuron 1 weights: [0.6801376345791896, 0.5227570718647476, 0.6538304061257811, 0.9065309427915296]\n",
      "                        \n",
      "\n",
      "    Neuron 2 weights: [0.918030026995218, 0.3239373175792399, 0.8302926450212691, 0.7944797888441312]\n",
      "                        \n",
      "\n",
      "    Neuron 3 weights: [0.42426118098234, 0.8533991842484936, 0.8275213811865754, 0.2797699054898226]\n",
      "                        \n",
      "\n",
      "    Neuron 4 weights: [0.7078726940833473, 0.4705288221024517, 0.07288308499053106, 0.23839597957811737]\n",
      "                        \n",
      "\n",
      "    Neuron 5 weights: [0.5752233327742898, 0.42401005543576215, 0.025109067493182875, 0.2219218684901636]\n",
      "                        \n",
      "\n",
      "Layer 2 (2nd Hidden Layer):\n",
      "                        \n",
      "\n",
      "    Neuron 1 weights: [0.5969513206147166, 0.5205565997808815, 0.13141359100287073, 0.9272679605008216, 0.7130757444262563]\n",
      "                        \n",
      "\n",
      "    Neuron 2 weights: [0.47105190607899095, 0.8819429070675447, 0.9097983094144407, 0.6157697592814968, 0.32432291096758153]\n",
      "                        \n",
      "\n",
      "    Neuron 3 weights: [0.4886931571299296, 0.8997771203332048, 0.7608518365313097, 0.31896892185358305, 0.40230716543661915]\n",
      "                        \n",
      "\n",
      "    Neuron 4 weights: [0.15613876389928824, 0.5392758370704297, 0.8702457255589634, 0.991251727356059, 0.4770487665733587]\n",
      "                        \n",
      "\n",
      "    Neuron 5 weights: [0.5184135958003868, 0.17760936798147856, 0.8341253637971351, 0.5451828171363575, 0.7690643919831515]\n",
      "                        \n",
      "\n",
      "Layer 3 (3rd Hidden Layer):\n",
      "                        \n",
      "\n",
      "    Neuron 1 weights: [0.25854073712106435, 0.05669686560486762, 0.8554346070476458, 0.39395720337866014, 0.14526634895577453]\n",
      "                        \n",
      "\n",
      "    Neuron 2 weights: [0.9471795521371927, 0.21795044297167618, 0.030572451926496193, 0.5945653193560473, 0.9569000855239317]\n",
      "                        \n",
      "\n",
      "    Neuron 3 weights: [0.6802144160267024, 0.2744170993310529, 0.0633682451025283, 0.6244967426074832, 0.9337116953563179]\n",
      "                        \n",
      "\n",
      "    Neuron 4 weights: [0.2434606977518289, 0.009382615013709374, 0.40332938086228287, 0.4669321512400671, 0.3245823287259725]\n",
      "                        \n",
      "\n",
      "    Neuron 5 weights: [0.38380245406423574, 0.5383944300875172, 0.5260645868314684, 0.8119527801698752, 0.8504993129822427]\n",
      "                        \n",
      "\n",
      "Layer 4 (4th Hidden Layer):\n",
      "                        \n",
      "\n",
      "    Neuron 1 weights: [0.6455567674603169, 0.8158124789224275, 0.37967253786859073, 0.5568092184760812, 0.9475986696521157]\n",
      "                        \n",
      "\n",
      "    Neuron 2 weights: [0.2260911961200363, 0.0808806019066386, 0.3287535520353592, 0.09380283165540337, 0.6468420038109015]\n",
      "                        \n",
      "\n",
      "    Neuron 3 weights: [0.618007576256747, 0.8245366878876231, 0.3126431406357508, 0.9065940678437145, 0.36409255759397985]\n",
      "                        \n",
      "\n",
      "    Neuron 4 weights: [0.17210744128753416, 0.2793390778465435, 0.7959237851051773, 0.3022516347926463, 0.12189277704032334]\n",
      "                        \n",
      "\n",
      "    Neuron 5 weights: [0.3877067810183724, 0.7101324439879142, 0.13006254386314128, 0.7885905006051215, 0.8506765943704779]\n",
      "                        \n",
      "\n",
      "Layer 5 (Output Layer)\n",
      "                        \n",
      "\n",
      "    Neuron 1 weights: [0.7996248956241206, 0.9688552963568035, 1.1136480711925798, 1.4499297405913327, 1.0394960538480764]\n",
      "                    \n",
      "Total training error = 39.50222576280345\n",
      "Total test error Iris = 10.49783188833458\n"
     ]
    },
    {
     "data": {
      "text/plain": [
       "10.49783188833458"
      ]
     },
     "execution_count": 5,
     "metadata": {},
     "output_type": "execute_result"
    }
   ],
   "source": [
    "for i in range(nn.max_iterations):\n",
    "    nn.train()\n",
    "nn.report()"
   ]
  },
  {
   "cell_type": "markdown",
   "metadata": {},
   "source": [
    "Here is a link to my github page where you can find the complete code for the Neural Network: https://github.com/jardelkuate10/DRG-Neural-Network"
   ]
  },
  {
   "cell_type": "code",
   "execution_count": null,
   "metadata": {},
   "outputs": [],
   "source": []
  },
  {
   "cell_type": "code",
   "execution_count": null,
   "metadata": {},
   "outputs": [],
   "source": []
  },
  {
   "cell_type": "code",
   "execution_count": null,
   "metadata": {},
   "outputs": [],
   "source": []
  },
  {
   "cell_type": "code",
   "execution_count": null,
   "metadata": {},
   "outputs": [],
   "source": []
  }
 ],
 "metadata": {
  "kernelspec": {
   "display_name": "Python 3",
   "language": "python",
   "name": "python3"
  },
  "language_info": {
   "codemirror_mode": {
    "name": "ipython",
    "version": 3
   },
   "file_extension": ".py",
   "mimetype": "text/x-python",
   "name": "python",
   "nbconvert_exporter": "python",
   "pygments_lexer": "ipython3",
   "version": "3.8.5"
  }
 },
 "nbformat": 4,
 "nbformat_minor": 4
}
